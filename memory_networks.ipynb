{
  "nbformat": 4,
  "nbformat_minor": 0,
  "metadata": {
    "colab": {
      "name": "memory-networks.ipynb",
      "provenance": [],
      "collapsed_sections": []
    },
    "kernelspec": {
      "name": "python3",
      "display_name": "Python 3"
    },
    "accelerator": "GPU"
  },
  "cells": [
    {
      "cell_type": "code",
      "metadata": {
        "id": "IcAbmdMGDdJW",
        "colab_type": "code",
        "colab": {
          "base_uri": "https://localhost:8080/",
          "height": 80
        },
        "outputId": "db7e5a41-efbb-44b9-8303-1166cc059234"
      },
      "source": [
        "import keras\n",
        "from math import sqrt\n",
        "from keras.layers import Input, Dense, Reshape, Dropout, Conv2D, MaxPooling2D, Flatten, Conv2DTranspose , Concatenate ,Permute\n",
        "from keras.layers import BatchNormalization ,Activation , UpSampling2D,TimeDistributed ,LSTM , Lambda\n",
        "from keras.layers.merge import Dot\n",
        "from keras.models import Model \n",
        "from keras.datasets import mnist , fashion_mnist\n",
        "from keras.optimizers import Adadelta, RMSprop\n",
        "import numpy as np\n",
        "from keras.utils.data_utils import get_file\n",
        "from sklearn.utils import shuffle\n",
        "import random\n",
        "import sys \n",
        "import keras.backend as K"
      ],
      "execution_count": null,
      "outputs": [
        {
          "output_type": "stream",
          "text": [
            "Using TensorFlow backend.\n"
          ],
          "name": "stderr"
        },
        {
          "output_type": "display_data",
          "data": {
            "text/html": [
              "<p style=\"color: red;\">\n",
              "The default version of TensorFlow in Colab will soon switch to TensorFlow 2.x.<br>\n",
              "We recommend you <a href=\"https://www.tensorflow.org/guide/migrate\" target=\"_blank\">upgrade</a> now \n",
              "or ensure your notebook will continue to use TensorFlow 1.x via the <code>%tensorflow_version 1.x</code> magic:\n",
              "<a href=\"https://colab.research.google.com/notebooks/tensorflow_version.ipynb\" target=\"_blank\">more info</a>.</p>\n"
            ],
            "text/plain": [
              "<IPython.core.display.HTML object>"
            ]
          },
          "metadata": {
            "tags": []
          }
        }
      ]
    },
    {
      "cell_type": "code",
      "metadata": {
        "colab_type": "code",
        "id": "w4jeHdu-UYl-",
        "colab": {}
      },
      "source": [
        "path = get_file('images_background.zip', origin='https://github.com/brendenlake/omniglot/raw/master/python/images_background.zip')\n",
        "import zipfile\n",
        "with zipfile.ZipFile(path,\"r\") as zip_ref:\n",
        "    zip_ref.extractall(\"omnilogt\")\n",
        "   "
      ],
      "execution_count": null,
      "outputs": []
    },
    {
      "cell_type": "code",
      "metadata": {
        "id": "LfQVzUiAWY1k",
        "colab_type": "code",
        "colab": {
          "base_uri": "https://localhost:8080/",
          "height": 51
        },
        "outputId": "6bae8424-c1fb-4135-e539-fa01b16a20a9"
      },
      "source": [
        "(x_train_mnist, y_train_mnist), (x_test_mnist, y_test_mnist) = mnist.load_data()\n",
        "x_train_mnist = x_train_mnist.reshape(60000,28,28,1)\n",
        "x_test_mnist = x_test_mnist.reshape(10000,28,28,1)\n",
        "x_train_mnist = x_train_mnist.astype('float32')\n",
        "x_test_mnist = x_test_mnist.astype('float32')\n",
        "x_train_mnist /= 255\n",
        "x_test_mnist /= 255\n",
        "y_train_mnist = keras.utils.to_categorical(y_train_mnist, 20)\n",
        "y_test_mnist = keras.utils.to_categorical(y_test_mnist, 20)"
      ],
      "execution_count": null,
      "outputs": [
        {
          "output_type": "stream",
          "text": [
            "Downloading data from https://s3.amazonaws.com/img-datasets/mnist.npz\n",
            "11493376/11490434 [==============================] - 0s 0us/step\n"
          ],
          "name": "stdout"
        }
      ]
    },
    {
      "cell_type": "code",
      "metadata": {
        "id": "EHgebHoRjR5C",
        "colab_type": "code",
        "colab": {
          "base_uri": "https://localhost:8080/",
          "height": 153
        },
        "outputId": "d609dc8f-d38b-41db-845c-3b40ed1018b8"
      },
      "source": [
        "(x_train_fashion, y_train_fashion), (x_test_fashion, y_test_fashion) = fashion_mnist.load_data()\n",
        "x_train_fashion = x_train_fashion.reshape(60000,28,28,1)\n",
        "x_test_fashion = x_test_fashion.reshape(10000,28,28,1)\n",
        "x_train_fashion = x_train_fashion.astype('float32')\n",
        "x_test_fashion = x_test_fashion.astype('float32')\n",
        "y_train_fashion = y_train_fashion.astype('int8')\n",
        "y_test_fashion = y_test_fashion.astype('int8')\n",
        "x_train_fashion /= 255\n",
        "x_test_fashion /= 255\n",
        "y_train_fashion += 10\n",
        "y_test_fashion += 10\n",
        "y_train_fashion = keras.utils.to_categorical(y_train_fashion, 20)\n",
        "y_test_fashion = keras.utils.to_categorical(y_test_fashion, 20)\n",
        "y_train = np.concatenate([y_train_mnist,y_train_fashion],axis=0)\n",
        "x_train = np.concatenate([x_train_mnist,x_train_fashion],axis=0)\n",
        "x_test = np.concatenate([x_test_mnist,x_test_fashion],axis=0)\n",
        "y_test = np.concatenate([y_test_mnist,y_test_fashion],axis=0)\n",
        "x_train, y_train = shuffle(x_train, y_train, random_state=0)\n",
        "x_test, y_test = shuffle(x_test, y_test, random_state=0)"
      ],
      "execution_count": null,
      "outputs": [
        {
          "output_type": "stream",
          "text": [
            "Downloading data from http://fashion-mnist.s3-website.eu-central-1.amazonaws.com/train-labels-idx1-ubyte.gz\n",
            "32768/29515 [=================================] - 0s 3us/step\n",
            "Downloading data from http://fashion-mnist.s3-website.eu-central-1.amazonaws.com/train-images-idx3-ubyte.gz\n",
            "26427392/26421880 [==============================] - 2s 0us/step\n",
            "Downloading data from http://fashion-mnist.s3-website.eu-central-1.amazonaws.com/t10k-labels-idx1-ubyte.gz\n",
            "8192/5148 [===============================================] - 0s 0us/step\n",
            "Downloading data from http://fashion-mnist.s3-website.eu-central-1.amazonaws.com/t10k-images-idx3-ubyte.gz\n",
            "4423680/4422102 [==============================] - 1s 0us/step\n"
          ],
          "name": "stdout"
        }
      ]
    },
    {
      "cell_type": "code",
      "metadata": {
        "id": "HBgazNEjUwdf",
        "colab_type": "code",
        "colab": {
          "base_uri": "https://localhost:8080/",
          "height": 34
        },
        "outputId": "2e20b404-5cb9-49f1-ab69-5d438189645a"
      },
      "source": [
        "print (x_train.shape)\n",
        "input_shape = (28,28,1)\n",
        "maps = 32 \n",
        "dropout = 0.2\n",
        "hidden = 256\n",
        "slotsize = 256\n",
        "num_classes = 20 "
      ],
      "execution_count": null,
      "outputs": [
        {
          "output_type": "stream",
          "text": [
            "(120000, 28, 28, 1)\n"
          ],
          "name": "stdout"
        }
      ]
    },
    {
      "cell_type": "code",
      "metadata": {
        "id": "98PFjUD1EXIs",
        "colab_type": "code",
        "cellView": "code",
        "colab": {
          "base_uri": "https://localhost:8080/",
          "height": 734
        },
        "outputId": "e73713e2-0363-4210-816c-4ce64efa68cb"
      },
      "source": [
        "#decoder\n",
        "input_feature = Input(shape=(slotsize, ))\n",
        "input_feature_reshape = Reshape((int(sqrt(hidden)), int(sqrt(hidden)), 1))(input_feature)\n",
        "upconv = Conv2DTranspose(maps, (5, 5), activation='relu')(input_feature_reshape)\n",
        "upconv = Dropout(dropout)(upconv)\n",
        "upconv = Conv2DTranspose(maps, (5, 5), activation='relu')(upconv)\n",
        "upconv = Dropout(dropout)(upconv)\n",
        "image = Conv2DTranspose(1, (5, 5), activation='relu')(upconv)\n",
        "decoder = Model(inputs=input_feature, outputs=image, name='Decoder')\n",
        "#memory_writer \n",
        "input_images = Input(shape=(None,28,28,1))\n",
        "x = TimeDistributed(Conv2D(32, (3, 3), padding='same'))(input_images)\n",
        "x = TimeDistributed(Activation('relu'))(x)\n",
        "x = Dropout(dropout)(x)\n",
        "x = TimeDistributed(Conv2D(32, (3, 3), padding='same'))(x)\n",
        "x = TimeDistributed(Activation('relu'))(x)\n",
        "x = Dropout(dropout)(x)\n",
        "x = TimeDistributed(MaxPooling2D((2, 2), padding='same'))(x)\n",
        "encoded = TimeDistributed(Flatten())(x)\n",
        "encoded = TimeDistributed(Dense(slotsize, activation='relu'))(encoded)\n",
        "memory_writer = Model([input_images], [encoded], name='memory_writer')\n",
        "#ltmn\n",
        "sim = Dot(-1,normalize = True, name='cos_sim')\n",
        "#sim = TimeDistributed(Dense(hidden,activation='softmax'))\n",
        "read_weights = Activation('softmax')\n",
        "read_vector = Lambda(lambda x: K.batch_dot(x[0],x[1]),name='read_vector')\n",
        "y = Input(shape=(num_classes,))\n",
        "y_v = Dense(256)(y)\n",
        "i_m = memory_writer([input_images])\n",
        "sim_score = sim([y_v, i_m])\n",
        "weights = read_weights(sim_score)\n",
        "rt = read_vector([weights,i_m])\n",
        "image = decoder(rt)\n",
        "LTMN = Model([input_images, y], image, name='LTMN')\n",
        "LTMN.compile(optimizer= RMSprop(), loss='mse')\n",
        "LTMN.summary()"
      ],
      "execution_count": null,
      "outputs": [
        {
          "output_type": "stream",
          "text": [
            "WARNING:tensorflow:From /usr/local/lib/python3.6/dist-packages/keras/backend/tensorflow_backend.py:66: The name tf.get_default_graph is deprecated. Please use tf.compat.v1.get_default_graph instead.\n",
            "\n",
            "WARNING:tensorflow:From /usr/local/lib/python3.6/dist-packages/keras/backend/tensorflow_backend.py:541: The name tf.placeholder is deprecated. Please use tf.compat.v1.placeholder instead.\n",
            "\n",
            "WARNING:tensorflow:From /usr/local/lib/python3.6/dist-packages/keras/backend/tensorflow_backend.py:4432: The name tf.random_uniform is deprecated. Please use tf.random.uniform instead.\n",
            "\n",
            "WARNING:tensorflow:From /usr/local/lib/python3.6/dist-packages/keras/backend/tensorflow_backend.py:148: The name tf.placeholder_with_default is deprecated. Please use tf.compat.v1.placeholder_with_default instead.\n",
            "\n",
            "WARNING:tensorflow:From /usr/local/lib/python3.6/dist-packages/keras/backend/tensorflow_backend.py:3733: calling dropout (from tensorflow.python.ops.nn_ops) with keep_prob is deprecated and will be removed in a future version.\n",
            "Instructions for updating:\n",
            "Please use `rate` instead of `keep_prob`. Rate should be set to `rate = 1 - keep_prob`.\n",
            "WARNING:tensorflow:From /usr/local/lib/python3.6/dist-packages/keras/backend/tensorflow_backend.py:4267: The name tf.nn.max_pool is deprecated. Please use tf.nn.max_pool2d instead.\n",
            "\n",
            "WARNING:tensorflow:From /usr/local/lib/python3.6/dist-packages/keras/optimizers.py:793: The name tf.train.Optimizer is deprecated. Please use tf.compat.v1.train.Optimizer instead.\n",
            "\n",
            "Model: \"LTMN\"\n",
            "__________________________________________________________________________________________________\n",
            "Layer (type)                    Output Shape         Param #     Connected to                     \n",
            "==================================================================================================\n",
            "input_3 (InputLayer)            (None, 20)           0                                            \n",
            "__________________________________________________________________________________________________\n",
            "input_2 (InputLayer)            (None, None, 28, 28, 0                                            \n",
            "__________________________________________________________________________________________________\n",
            "dense_2 (Dense)                 (None, 256)          5376        input_3[0][0]                    \n",
            "__________________________________________________________________________________________________\n",
            "memory_writer (Model)           (None, None, 256)    1615456     input_2[0][0]                    \n",
            "__________________________________________________________________________________________________\n",
            "cos_sim (Dot)                   (None, None)         0           dense_2[0][0]                    \n",
            "                                                                 memory_writer[1][0]              \n",
            "__________________________________________________________________________________________________\n",
            "activation_3 (Activation)       (None, None)         0           cos_sim[0][0]                    \n",
            "__________________________________________________________________________________________________\n",
            "read_vector (Lambda)            (None, 256)          0           activation_3[0][0]               \n",
            "                                                                 memory_writer[1][0]              \n",
            "__________________________________________________________________________________________________\n",
            "Decoder (Model)                 (None, 28, 28, 1)    27265       read_vector[0][0]                \n",
            "==================================================================================================\n",
            "Total params: 1,648,097\n",
            "Trainable params: 1,648,097\n",
            "Non-trainable params: 0\n",
            "__________________________________________________________________________________________________\n"
          ],
          "name": "stdout"
        }
      ]
    },
    {
      "cell_type": "code",
      "metadata": {
        "id": "nI3yc4ZEgK3G",
        "colab_type": "code",
        "colab": {}
      },
      "source": [
        "def showOrigDec(orig, noise, num=10):\n",
        "    import matplotlib.pyplot as plt\n",
        "    n = num\n",
        "    plt.figure(figsize=(20, 4))\n",
        "\n",
        "    for i in range(n):\n",
        "        # display original\n",
        "        ax = plt.subplot(2, n, i+1)\n",
        "        plt.imshow(orig[i].reshape(28, 28))\n",
        "        ax.get_xaxis().set_visible(False)\n",
        "        ax.get_yaxis().set_visible(False)\n",
        "        \n",
        "        # display original\n",
        "        ax = plt.subplot(2, n, i +1 + n)\n",
        "        plt.imshow(noise[i].reshape(28, 28))\n",
        "        ax.get_xaxis().set_visible(False)\n",
        "        ax.get_yaxis().set_visible(False)\n",
        "    plt.show()"
      ],
      "execution_count": null,
      "outputs": []
    },
    {
      "cell_type": "code",
      "metadata": {
        "id": "Hus7DCTFTr0c",
        "colab_type": "code",
        "colab": {
          "base_uri": "https://localhost:8080/",
          "height": 519
        },
        "outputId": "fbb7eb53-66f3-4c9a-d67a-27cc6c60e2d6"
      },
      "source": [
        "showOrigDec(x_train_mnist[0:5],x_train_mnist[0:5])"
      ],
      "execution_count": null,
      "outputs": [
        {
          "output_type": "error",
          "ename": "IndexError",
          "evalue": "ignored",
          "traceback": [
            "\u001b[0;31m---------------------------------------------------------------------------\u001b[0m",
            "\u001b[0;31mIndexError\u001b[0m                                Traceback (most recent call last)",
            "\u001b[0;32m<ipython-input-11-3eb8a45289ea>\u001b[0m in \u001b[0;36m<module>\u001b[0;34m()\u001b[0m\n\u001b[0;32m----> 1\u001b[0;31m \u001b[0mshowOrigDec\u001b[0m\u001b[0;34m(\u001b[0m\u001b[0mx_train_mnist\u001b[0m\u001b[0;34m[\u001b[0m\u001b[0;36m0\u001b[0m\u001b[0;34m:\u001b[0m\u001b[0;36m5\u001b[0m\u001b[0;34m]\u001b[0m\u001b[0;34m,\u001b[0m\u001b[0mx_train_mnist\u001b[0m\u001b[0;34m[\u001b[0m\u001b[0;36m0\u001b[0m\u001b[0;34m:\u001b[0m\u001b[0;36m5\u001b[0m\u001b[0;34m]\u001b[0m\u001b[0;34m)\u001b[0m\u001b[0;34m\u001b[0m\u001b[0;34m\u001b[0m\u001b[0m\n\u001b[0m",
            "\u001b[0;32m<ipython-input-7-25a80006a95c>\u001b[0m in \u001b[0;36mshowOrigDec\u001b[0;34m(orig, noise, num)\u001b[0m\n\u001b[1;32m      7\u001b[0m         \u001b[0;31m# display original\u001b[0m\u001b[0;34m\u001b[0m\u001b[0;34m\u001b[0m\u001b[0;34m\u001b[0m\u001b[0m\n\u001b[1;32m      8\u001b[0m         \u001b[0max\u001b[0m \u001b[0;34m=\u001b[0m \u001b[0mplt\u001b[0m\u001b[0;34m.\u001b[0m\u001b[0msubplot\u001b[0m\u001b[0;34m(\u001b[0m\u001b[0;36m2\u001b[0m\u001b[0;34m,\u001b[0m \u001b[0mn\u001b[0m\u001b[0;34m,\u001b[0m \u001b[0mi\u001b[0m\u001b[0;34m+\u001b[0m\u001b[0;36m1\u001b[0m\u001b[0;34m)\u001b[0m\u001b[0;34m\u001b[0m\u001b[0;34m\u001b[0m\u001b[0m\n\u001b[0;32m----> 9\u001b[0;31m         \u001b[0mplt\u001b[0m\u001b[0;34m.\u001b[0m\u001b[0mimshow\u001b[0m\u001b[0;34m(\u001b[0m\u001b[0morig\u001b[0m\u001b[0;34m[\u001b[0m\u001b[0mi\u001b[0m\u001b[0;34m]\u001b[0m\u001b[0;34m.\u001b[0m\u001b[0mreshape\u001b[0m\u001b[0;34m(\u001b[0m\u001b[0;36m28\u001b[0m\u001b[0;34m,\u001b[0m \u001b[0;36m28\u001b[0m\u001b[0;34m)\u001b[0m\u001b[0;34m)\u001b[0m\u001b[0;34m\u001b[0m\u001b[0;34m\u001b[0m\u001b[0m\n\u001b[0m\u001b[1;32m     10\u001b[0m         \u001b[0max\u001b[0m\u001b[0;34m.\u001b[0m\u001b[0mget_xaxis\u001b[0m\u001b[0;34m(\u001b[0m\u001b[0;34m)\u001b[0m\u001b[0;34m.\u001b[0m\u001b[0mset_visible\u001b[0m\u001b[0;34m(\u001b[0m\u001b[0;32mFalse\u001b[0m\u001b[0;34m)\u001b[0m\u001b[0;34m\u001b[0m\u001b[0;34m\u001b[0m\u001b[0m\n\u001b[1;32m     11\u001b[0m         \u001b[0max\u001b[0m\u001b[0;34m.\u001b[0m\u001b[0mget_yaxis\u001b[0m\u001b[0;34m(\u001b[0m\u001b[0;34m)\u001b[0m\u001b[0;34m.\u001b[0m\u001b[0mset_visible\u001b[0m\u001b[0;34m(\u001b[0m\u001b[0;32mFalse\u001b[0m\u001b[0;34m)\u001b[0m\u001b[0;34m\u001b[0m\u001b[0;34m\u001b[0m\u001b[0m\n",
            "\u001b[0;31mIndexError\u001b[0m: index 5 is out of bounds for axis 0 with size 5"
          ]
        },
        {
          "output_type": "display_data",
          "data": {
            "image/png": "[encoded data removed]",
            "text/plain": [
              "<Figure size 1440x288 with 11 Axes>"
            ]
          },
          "metadata": {
            "tags": []
          }
        }
      ]
    },
    {
      "cell_type": "code",
      "metadata": {
        "id": "KTzN9OcOI80k",
        "colab_type": "code",
        "colab": {
          "base_uri": "https://localhost:8080/",
          "height": 34
        },
        "outputId": "b09415c1-febb-4e31-dce8-3f7de128e8f4"
      },
      "source": [
        "def generatememorybatch(mem_size,batch_size):\n",
        "  x_f = np.zeros((batch_size,mem_size,28,28,1))\n",
        "  for i in range(batch_size):\n",
        "    for t in range(mem_size):\n",
        "      index = np.random.randint(0,x_train.shape[0])\n",
        "      x_f[i,t] = x_train[index]\n",
        "  return x_f\n",
        "def generaterandomsample(x_test, y_test, size=1000):\n",
        "    y_ = y_test[0:size]\n",
        "    x_ = x_test[0:size]\n",
        "    indices = random.sample(range(0, y_test.shape[0]), size)\n",
        "    for i in range(size):\n",
        "      y_[i] = y_test[indices[i]]\n",
        "      x_[i] = x_test[indices[i]]\n",
        "    return x_,y_\n",
        "loss = 0\n",
        "#losses = []\n",
        "for i in range(20000):\n",
        "  x_f = generatememorybatch(10,256)\n",
        "  x_t, y_t = generaterandomsample(x_train,y_train,256)\n",
        "  loss += LTMN.train_on_batch([x_f,y_t],x_t)\n",
        "  sys.stdout.write('\\r Epoch  {} , loss = {}'.format(i+1,loss/(i+1)))\n",
        "  sys.stdout.flush()\n",
        "  if (i+1) % 1000 == 0:\n",
        "    x_f = np.zeros((5,5,28,28,1))\n",
        "    y_f = np.zeros((5,num_classes))\n",
        "    x_images = np.zeros((5,28,28,1))\n",
        "    for t in range(5):\n",
        "      index = np.random.randint(0,x_test.shape[0])\n",
        "      x_f[:,t] = x_test[index]\n",
        "      x_images[t] = x_test[index]\n",
        "      y_f[t] = y_test[index]\n",
        "       \n",
        "    preds = LTMN.predict([x_f,y_f])\n",
        "    showOrigDec(x_images,preds,num=5)\n",
        "\n",
        "  #losses.append(loss/(i+1))\n",
        "#print losses[-1]\n",
        "  "
      ],
      "execution_count": null,
      "outputs": [
        {
          "output_type": "stream",
          "text": [
            " Epoch  26 , loss = 0.07515070816645256"
          ],
          "name": "stdout"
        }
      ]
    },
    {
      "cell_type": "code",
      "metadata": {
        "id": "NQ2w-XAl7SgG",
        "colab_type": "code",
        "colab": {}
      },
      "source": [
        ""
      ],
      "execution_count": null,
      "outputs": []
    }
  ]
}